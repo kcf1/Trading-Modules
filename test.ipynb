{
 "cells": [
  {
   "cell_type": "code",
   "execution_count": 2,
   "metadata": {},
   "outputs": [],
   "source": [
    "import pandas as pd\n",
    "import numpy as np\n",
    "from trading_rule import *\n",
    "from trading_model import *\n",
    "import matplotlib.pyplot as plt\n",
    "from sqlalchemy import create_engine\n",
    "from sqlalchemy_utils import database_exists, create_database\n",
    "import psycopg2 as pg"
   ]
  },
  {
   "cell_type": "markdown",
   "metadata": {},
   "source": [
    "# Data"
   ]
  },
  {
   "cell_type": "code",
   "execution_count": 3,
   "metadata": {},
   "outputs": [],
   "source": [
    "from mt5_interface import User\n",
    "from postgres_interface import DataBase\n",
    "import json\n",
    "from data_collection import PretradeDataUpdater"
   ]
  },
  {
   "cell_type": "code",
   "execution_count": 4,
   "metadata": {},
   "outputs": [],
   "source": [
    "def read_json(filename):\n",
    "  with open(filename) as f:\n",
    "    j = json.load(f)\n",
    "  return j\n",
    "\n",
    "ac_info = read_json('config/mt5_account.json')['mt5-demo']\n",
    "db_info = read_json('config/postgres_info.json')['pre-trade']"
   ]
  },
  {
   "cell_type": "code",
   "execution_count": 5,
   "metadata": {},
   "outputs": [
    {
     "name": "stdout",
     "output_type": "stream",
     "text": [
      "Logged in as 80273160\n",
      "Connected to pre-trade\n"
     ]
    }
   ],
   "source": [
    "update = PretradeDataUpdater(ac_info,db_info)"
   ]
  },
  {
   "cell_type": "code",
   "execution_count": 13,
   "metadata": {},
   "outputs": [],
   "source": [
    "update.set_universe()"
   ]
  },
  {
   "cell_type": "code",
   "execution_count": 10,
   "metadata": {},
   "outputs": [
    {
     "data": {
      "text/html": [
       "<div>\n",
       "<style scoped>\n",
       "    .dataframe tbody tr th:only-of-type {\n",
       "        vertical-align: middle;\n",
       "    }\n",
       "\n",
       "    .dataframe tbody tr th {\n",
       "        vertical-align: top;\n",
       "    }\n",
       "\n",
       "    .dataframe thead th {\n",
       "        text-align: right;\n",
       "    }\n",
       "</style>\n",
       "<table border=\"1\" class=\"dataframe\">\n",
       "  <thead>\n",
       "    <tr style=\"text-align: right;\">\n",
       "      <th></th>\n",
       "      <th>id</th>\n",
       "      <th>symbol</th>\n",
       "      <th>asset_class</th>\n",
       "      <th>nominal_currency</th>\n",
       "      <th>description</th>\n",
       "    </tr>\n",
       "  </thead>\n",
       "  <tbody>\n",
       "    <tr>\n",
       "      <th>0</th>\n",
       "      <td>0</td>\n",
       "      <td>AUDUSD</td>\n",
       "      <td>currency</td>\n",
       "      <td>USD</td>\n",
       "      <td>Australian Dollar (in US Dollar)</td>\n",
       "    </tr>\n",
       "    <tr>\n",
       "      <th>1</th>\n",
       "      <td>1</td>\n",
       "      <td>EURUSD</td>\n",
       "      <td>currency</td>\n",
       "      <td>USD</td>\n",
       "      <td>Euro (in US Dollar)</td>\n",
       "    </tr>\n",
       "    <tr>\n",
       "      <th>2</th>\n",
       "      <td>2</td>\n",
       "      <td>GBPUSD</td>\n",
       "      <td>currency</td>\n",
       "      <td>USD</td>\n",
       "      <td>UK Pound (in US Dollar)</td>\n",
       "    </tr>\n",
       "    <tr>\n",
       "      <th>3</th>\n",
       "      <td>3</td>\n",
       "      <td>NZDUSD</td>\n",
       "      <td>currency</td>\n",
       "      <td>USD</td>\n",
       "      <td>New Zealand Dollar (in US Dollar)</td>\n",
       "    </tr>\n",
       "    <tr>\n",
       "      <th>4</th>\n",
       "      <td>4</td>\n",
       "      <td>USDCHF</td>\n",
       "      <td>currency</td>\n",
       "      <td>CHF</td>\n",
       "      <td>US Dollar (in Swiss Franc)</td>\n",
       "    </tr>\n",
       "    <tr>\n",
       "      <th>5</th>\n",
       "      <td>5</td>\n",
       "      <td>USDCAD</td>\n",
       "      <td>currency</td>\n",
       "      <td>CAD</td>\n",
       "      <td>US dollar (in Canadian Dollar)</td>\n",
       "    </tr>\n",
       "    <tr>\n",
       "      <th>6</th>\n",
       "      <td>6</td>\n",
       "      <td>USDJPY</td>\n",
       "      <td>currency</td>\n",
       "      <td>JPY</td>\n",
       "      <td>US dollar (in Japanese Yen)</td>\n",
       "    </tr>\n",
       "  </tbody>\n",
       "</table>\n",
       "</div>"
      ],
      "text/plain": [
       "   id  symbol asset_class nominal_currency                        description\n",
       "0   0  AUDUSD    currency              USD   Australian Dollar (in US Dollar)\n",
       "1   1  EURUSD    currency              USD                Euro (in US Dollar)\n",
       "2   2  GBPUSD    currency              USD            UK Pound (in US Dollar)\n",
       "3   3  NZDUSD    currency              USD  New Zealand Dollar (in US Dollar)\n",
       "4   4  USDCHF    currency              CHF         US Dollar (in Swiss Franc)\n",
       "5   5  USDCAD    currency              CAD     US dollar (in Canadian Dollar)\n",
       "6   6  USDJPY    currency              JPY        US dollar (in Japanese Yen)"
      ]
     },
     "execution_count": 10,
     "metadata": {},
     "output_type": "execute_result"
    }
   ],
   "source": [
    "df = pd.DataFrame()\n",
    "df[\"symbol\"] = [\"AUDUSD\", \"EURUSD\", \"GBPUSD\", \"NZDUSD\", \"USDCHF\", \"USDCAD\", \"USDJPY\"]\n",
    "df[\"description\"] = [\n",
    "    \"Australian Dollar (in US Dollar)\",\n",
    "    \"Euro (in US Dollar)\",\n",
    "    \"UK Pound (in US Dollar)\",\n",
    "    \"New Zealand Dollar (in US Dollar)\",\n",
    "    \"US Dollar (in Swiss Franc)\",\n",
    "    \"US dollar (in Canadian Dollar)\",\n",
    "    \"US dollar (in Japanese Yen)\",\n",
    "]\n",
    "df[\"asset_class\"] = \"currency\"\n",
    "df[\"nominal_currency\"] = [\"USD\", \"USD\", \"USD\", \"USD\", \"CHF\", \"CAD\", \"JPY\"]\n",
    "df[\"id\"] = range(len(df))\n",
    "df = df[[\"id\", \"symbol\", \"asset_class\", \"nominal_currency\", \"description\"]]\n",
    "df"
   ]
  },
  {
   "cell_type": "code",
   "execution_count": 14,
   "metadata": {},
   "outputs": [
    {
     "name": "stdout",
     "output_type": "stream",
     "text": [
      "Getting 1h bars of AUDUSD from 2013-04-12 18:28:04.429688+00:00 to 2024-03-25 18:28:04.429688+00:00\n",
      "Getting 1h bars of EURUSD from 2013-04-12 18:28:15.419552+00:00 to 2024-03-25 18:28:15.419552+00:00\n",
      "Getting 1h bars of GBPUSD from 2013-04-12 18:28:26.085680+00:00 to 2024-03-25 18:28:26.085680+00:00\n",
      "Getting 1h bars of NZDUSD from 2013-04-12 18:28:36.752572+00:00 to 2024-03-25 18:28:36.752572+00:00\n",
      "Getting 1h bars of USDCHF from 2013-04-12 18:28:47.037145+00:00 to 2024-03-25 18:28:47.037145+00:00\n",
      "Getting 1h bars of USDCAD from 2013-04-12 18:29:14.498178+00:00 to 2024-03-25 18:29:14.498178+00:00\n",
      "Getting 1h bars of USDJPY from 2013-04-12 18:29:25.301179+00:00 to 2024-03-25 18:29:25.301179+00:00\n"
     ]
    }
   ],
   "source": [
    "update.init_bars()"
   ]
  },
  {
   "cell_type": "code",
   "execution_count": 15,
   "metadata": {},
   "outputs": [
    {
     "name": "stdout",
     "output_type": "stream",
     "text": [
      "Getting 1h bars of AUDUSD from 2024-03-25 17:00:00+00:00 to 2024-03-25 18:29:37.717050+00:00\n",
      "2024-03-25 17:00:00\n"
     ]
    },
    {
     "ename": "AssertionError",
     "evalue": "No new bars has been updated",
     "output_type": "error",
     "traceback": [
      "\u001b[1;31m---------------------------------------------------------------------------\u001b[0m",
      "\u001b[1;31mAssertionError\u001b[0m                            Traceback (most recent call last)",
      "Cell \u001b[1;32mIn[15], line 1\u001b[0m\n\u001b[1;32m----> 1\u001b[0m \u001b[43mupdate\u001b[49m\u001b[38;5;241;43m.\u001b[39;49m\u001b[43mupdate_bars\u001b[49m\u001b[43m(\u001b[49m\u001b[43m)\u001b[49m\n",
      "File \u001b[1;32me:\\Document\\GitHub\\Trading-Modules\\data_collection.py:134\u001b[0m, in \u001b[0;36mPretradeDataUpdater.update_bars\u001b[1;34m(self)\u001b[0m\n\u001b[0;32m    115\u001b[0m df \u001b[38;5;241m=\u001b[39m df[\n\u001b[0;32m    116\u001b[0m     [\n\u001b[0;32m    117\u001b[0m         \u001b[38;5;124m\"\u001b[39m\u001b[38;5;124mid\u001b[39m\u001b[38;5;124m\"\u001b[39m,\n\u001b[1;32m   (...)\u001b[0m\n\u001b[0;32m    127\u001b[0m     ]\n\u001b[0;32m    128\u001b[0m ]\n\u001b[0;32m    130\u001b[0m \u001b[38;5;28;01massert\u001b[39;00m df\u001b[38;5;241m.\u001b[39miloc[\u001b[38;5;241m0\u001b[39m]\u001b[38;5;241m.\u001b[39mid \u001b[38;5;241m==\u001b[39m latest_bar\u001b[38;5;241m.\u001b[39mid, \u001b[38;5;28mprint\u001b[39m(\n\u001b[0;32m    131\u001b[0m     \u001b[38;5;124m\"\u001b[39m\u001b[38;5;124mLocal data not reconciling with MT5 source\u001b[39m\u001b[38;5;124m\"\u001b[39m\n\u001b[0;32m    132\u001b[0m )\n\u001b[1;32m--> 134\u001b[0m \u001b[38;5;28;01massert\u001b[39;00m \u001b[38;5;28mlen\u001b[39m(df\u001b[38;5;241m.\u001b[39miloc[\u001b[38;5;241m1\u001b[39m:]) \u001b[38;5;241m>\u001b[39m \u001b[38;5;241m0\u001b[39m, \u001b[38;5;124m\"\u001b[39m\u001b[38;5;124mNo new bars has been updated\u001b[39m\u001b[38;5;124m\"\u001b[39m\n\u001b[0;32m    136\u001b[0m \u001b[38;5;28mself\u001b[39m\u001b[38;5;241m.\u001b[39mdb\u001b[38;5;241m.\u001b[39minsert_rows_from_df(\u001b[38;5;124m\"\u001b[39m\u001b[38;5;124mbars\u001b[39m\u001b[38;5;124m\"\u001b[39m, df\u001b[38;5;241m.\u001b[39miloc[\u001b[38;5;241m1\u001b[39m:])\n",
      "\u001b[1;31mAssertionError\u001b[0m: No new bars has been updated"
     ]
    }
   ],
   "source": [
    "update.update_bars()"
   ]
  },
  {
   "cell_type": "code",
   "execution_count": 16,
   "metadata": {},
   "outputs": [
    {
     "data": {
      "text/html": [
       "<div>\n",
       "<style scoped>\n",
       "    .dataframe tbody tr th:only-of-type {\n",
       "        vertical-align: middle;\n",
       "    }\n",
       "\n",
       "    .dataframe tbody tr th {\n",
       "        vertical-align: top;\n",
       "    }\n",
       "\n",
       "    .dataframe thead th {\n",
       "        text-align: right;\n",
       "    }\n",
       "</style>\n",
       "<table border=\"1\" class=\"dataframe\">\n",
       "  <thead>\n",
       "    <tr style=\"text-align: right;\">\n",
       "      <th></th>\n",
       "      <th>id</th>\n",
       "      <th>symbol</th>\n",
       "      <th>time</th>\n",
       "      <th>open</th>\n",
       "      <th>high</th>\n",
       "      <th>low</th>\n",
       "      <th>close</th>\n",
       "      <th>spread</th>\n",
       "      <th>tick_volume</th>\n",
       "      <th>real_volume</th>\n",
       "    </tr>\n",
       "  </thead>\n",
       "  <tbody>\n",
       "    <tr>\n",
       "      <th>475496</th>\n",
       "      <td>2007-20240325070000</td>\n",
       "      <td>USDJPY</td>\n",
       "      <td>2024-03-25 07:00:00</td>\n",
       "      <td>151.359</td>\n",
       "      <td>151.372</td>\n",
       "      <td>151.192</td>\n",
       "      <td>151.215</td>\n",
       "      <td>0</td>\n",
       "      <td>1357</td>\n",
       "      <td>0</td>\n",
       "    </tr>\n",
       "    <tr>\n",
       "      <th>475497</th>\n",
       "      <td>2007-20240325080000</td>\n",
       "      <td>USDJPY</td>\n",
       "      <td>2024-03-25 08:00:00</td>\n",
       "      <td>151.215</td>\n",
       "      <td>151.321</td>\n",
       "      <td>151.175</td>\n",
       "      <td>151.320</td>\n",
       "      <td>0</td>\n",
       "      <td>1741</td>\n",
       "      <td>0</td>\n",
       "    </tr>\n",
       "    <tr>\n",
       "      <th>475498</th>\n",
       "      <td>2007-20240325090000</td>\n",
       "      <td>USDJPY</td>\n",
       "      <td>2024-03-25 09:00:00</td>\n",
       "      <td>151.315</td>\n",
       "      <td>151.385</td>\n",
       "      <td>151.168</td>\n",
       "      <td>151.321</td>\n",
       "      <td>0</td>\n",
       "      <td>2381</td>\n",
       "      <td>0</td>\n",
       "    </tr>\n",
       "    <tr>\n",
       "      <th>475499</th>\n",
       "      <td>2007-20240325100000</td>\n",
       "      <td>USDJPY</td>\n",
       "      <td>2024-03-25 10:00:00</td>\n",
       "      <td>151.321</td>\n",
       "      <td>151.399</td>\n",
       "      <td>151.222</td>\n",
       "      <td>151.353</td>\n",
       "      <td>0</td>\n",
       "      <td>3197</td>\n",
       "      <td>0</td>\n",
       "    </tr>\n",
       "    <tr>\n",
       "      <th>475500</th>\n",
       "      <td>2007-20240325110000</td>\n",
       "      <td>USDJPY</td>\n",
       "      <td>2024-03-25 11:00:00</td>\n",
       "      <td>151.353</td>\n",
       "      <td>151.440</td>\n",
       "      <td>151.330</td>\n",
       "      <td>151.400</td>\n",
       "      <td>0</td>\n",
       "      <td>2577</td>\n",
       "      <td>0</td>\n",
       "    </tr>\n",
       "    <tr>\n",
       "      <th>475501</th>\n",
       "      <td>2007-20240325120000</td>\n",
       "      <td>USDJPY</td>\n",
       "      <td>2024-03-25 12:00:00</td>\n",
       "      <td>151.400</td>\n",
       "      <td>151.407</td>\n",
       "      <td>151.257</td>\n",
       "      <td>151.288</td>\n",
       "      <td>1</td>\n",
       "      <td>2458</td>\n",
       "      <td>0</td>\n",
       "    </tr>\n",
       "    <tr>\n",
       "      <th>475502</th>\n",
       "      <td>2007-20240325130000</td>\n",
       "      <td>USDJPY</td>\n",
       "      <td>2024-03-25 13:00:00</td>\n",
       "      <td>151.291</td>\n",
       "      <td>151.377</td>\n",
       "      <td>151.284</td>\n",
       "      <td>151.295</td>\n",
       "      <td>1</td>\n",
       "      <td>2180</td>\n",
       "      <td>0</td>\n",
       "    </tr>\n",
       "    <tr>\n",
       "      <th>475503</th>\n",
       "      <td>2007-20240325140000</td>\n",
       "      <td>USDJPY</td>\n",
       "      <td>2024-03-25 14:00:00</td>\n",
       "      <td>151.295</td>\n",
       "      <td>151.315</td>\n",
       "      <td>151.140</td>\n",
       "      <td>151.229</td>\n",
       "      <td>0</td>\n",
       "      <td>2727</td>\n",
       "      <td>0</td>\n",
       "    </tr>\n",
       "    <tr>\n",
       "      <th>475504</th>\n",
       "      <td>2007-20240325150000</td>\n",
       "      <td>USDJPY</td>\n",
       "      <td>2024-03-25 15:00:00</td>\n",
       "      <td>151.228</td>\n",
       "      <td>151.292</td>\n",
       "      <td>151.126</td>\n",
       "      <td>151.270</td>\n",
       "      <td>0</td>\n",
       "      <td>2412</td>\n",
       "      <td>0</td>\n",
       "    </tr>\n",
       "    <tr>\n",
       "      <th>475505</th>\n",
       "      <td>2007-20240325160000</td>\n",
       "      <td>USDJPY</td>\n",
       "      <td>2024-03-25 16:00:00</td>\n",
       "      <td>151.270</td>\n",
       "      <td>151.370</td>\n",
       "      <td>151.244</td>\n",
       "      <td>151.370</td>\n",
       "      <td>0</td>\n",
       "      <td>1892</td>\n",
       "      <td>0</td>\n",
       "    </tr>\n",
       "  </tbody>\n",
       "</table>\n",
       "</div>"
      ],
      "text/plain": [
       "                         id  symbol                time     open     high  \\\n",
       "475496  2007-20240325070000  USDJPY 2024-03-25 07:00:00  151.359  151.372   \n",
       "475497  2007-20240325080000  USDJPY 2024-03-25 08:00:00  151.215  151.321   \n",
       "475498  2007-20240325090000  USDJPY 2024-03-25 09:00:00  151.315  151.385   \n",
       "475499  2007-20240325100000  USDJPY 2024-03-25 10:00:00  151.321  151.399   \n",
       "475500  2007-20240325110000  USDJPY 2024-03-25 11:00:00  151.353  151.440   \n",
       "475501  2007-20240325120000  USDJPY 2024-03-25 12:00:00  151.400  151.407   \n",
       "475502  2007-20240325130000  USDJPY 2024-03-25 13:00:00  151.291  151.377   \n",
       "475503  2007-20240325140000  USDJPY 2024-03-25 14:00:00  151.295  151.315   \n",
       "475504  2007-20240325150000  USDJPY 2024-03-25 15:00:00  151.228  151.292   \n",
       "475505  2007-20240325160000  USDJPY 2024-03-25 16:00:00  151.270  151.370   \n",
       "\n",
       "            low    close  spread  tick_volume  real_volume  \n",
       "475496  151.192  151.215       0         1357            0  \n",
       "475497  151.175  151.320       0         1741            0  \n",
       "475498  151.168  151.321       0         2381            0  \n",
       "475499  151.222  151.353       0         3197            0  \n",
       "475500  151.330  151.400       0         2577            0  \n",
       "475501  151.257  151.288       1         2458            0  \n",
       "475502  151.284  151.295       1         2180            0  \n",
       "475503  151.140  151.229       0         2727            0  \n",
       "475504  151.126  151.270       0         2412            0  \n",
       "475505  151.244  151.370       0         1892            0  "
      ]
     },
     "execution_count": 16,
     "metadata": {},
     "output_type": "execute_result"
    }
   ],
   "source": [
    "update.db.read_all('bars').tail(10)"
   ]
  },
  {
   "cell_type": "code",
   "execution_count": 10,
   "metadata": {},
   "outputs": [],
   "source": [
    "update.close()"
   ]
  },
  {
   "cell_type": "code",
   "execution_count": 12,
   "metadata": {},
   "outputs": [
    {
     "name": "stdout",
     "output_type": "stream",
     "text": [
      "Getting 1h bars of AUDUSD from 2023-12-16 09:57:54.734045+00:00 to 2024-03-25 09:57:54.734045+00:00\n"
     ]
    },
    {
     "data": {
      "text/html": [
       "<div>\n",
       "<style scoped>\n",
       "    .dataframe tbody tr th:only-of-type {\n",
       "        vertical-align: middle;\n",
       "    }\n",
       "\n",
       "    .dataframe tbody tr th {\n",
       "        vertical-align: top;\n",
       "    }\n",
       "\n",
       "    .dataframe thead th {\n",
       "        text-align: right;\n",
       "    }\n",
       "</style>\n",
       "<table border=\"1\" class=\"dataframe\">\n",
       "  <thead>\n",
       "    <tr style=\"text-align: right;\">\n",
       "      <th></th>\n",
       "      <th>time</th>\n",
       "      <th>open</th>\n",
       "      <th>high</th>\n",
       "      <th>low</th>\n",
       "      <th>close</th>\n",
       "      <th>tick_volume</th>\n",
       "      <th>spread</th>\n",
       "      <th>real_volume</th>\n",
       "      <th>time_value</th>\n",
       "    </tr>\n",
       "  </thead>\n",
       "  <tbody>\n",
       "    <tr>\n",
       "      <th>0</th>\n",
       "      <td>2023-12-18 00:00:00</td>\n",
       "      <td>0.66970</td>\n",
       "      <td>0.67030</td>\n",
       "      <td>0.66947</td>\n",
       "      <td>0.66981</td>\n",
       "      <td>1578</td>\n",
       "      <td>14</td>\n",
       "      <td>0</td>\n",
       "      <td>1702857600</td>\n",
       "    </tr>\n",
       "    <tr>\n",
       "      <th>1</th>\n",
       "      <td>2023-12-18 01:00:00</td>\n",
       "      <td>0.66985</td>\n",
       "      <td>0.67031</td>\n",
       "      <td>0.66929</td>\n",
       "      <td>0.66983</td>\n",
       "      <td>1599</td>\n",
       "      <td>4</td>\n",
       "      <td>0</td>\n",
       "      <td>1702861200</td>\n",
       "    </tr>\n",
       "    <tr>\n",
       "      <th>2</th>\n",
       "      <td>2023-12-18 02:00:00</td>\n",
       "      <td>0.66982</td>\n",
       "      <td>0.67090</td>\n",
       "      <td>0.66978</td>\n",
       "      <td>0.67079</td>\n",
       "      <td>2536</td>\n",
       "      <td>4</td>\n",
       "      <td>0</td>\n",
       "      <td>1702864800</td>\n",
       "    </tr>\n",
       "    <tr>\n",
       "      <th>3</th>\n",
       "      <td>2023-12-18 03:00:00</td>\n",
       "      <td>0.67079</td>\n",
       "      <td>0.67109</td>\n",
       "      <td>0.66928</td>\n",
       "      <td>0.66994</td>\n",
       "      <td>3190</td>\n",
       "      <td>4</td>\n",
       "      <td>0</td>\n",
       "      <td>1702868400</td>\n",
       "    </tr>\n",
       "    <tr>\n",
       "      <th>4</th>\n",
       "      <td>2023-12-18 04:00:00</td>\n",
       "      <td>0.66994</td>\n",
       "      <td>0.67094</td>\n",
       "      <td>0.66994</td>\n",
       "      <td>0.67061</td>\n",
       "      <td>2271</td>\n",
       "      <td>0</td>\n",
       "      <td>0</td>\n",
       "      <td>1702872000</td>\n",
       "    </tr>\n",
       "    <tr>\n",
       "      <th>...</th>\n",
       "      <td>...</td>\n",
       "      <td>...</td>\n",
       "      <td>...</td>\n",
       "      <td>...</td>\n",
       "      <td>...</td>\n",
       "      <td>...</td>\n",
       "      <td>...</td>\n",
       "      <td>...</td>\n",
       "      <td>...</td>\n",
       "    </tr>\n",
       "    <tr>\n",
       "      <th>1638</th>\n",
       "      <td>2024-03-25 05:00:00</td>\n",
       "      <td>0.65408</td>\n",
       "      <td>0.65409</td>\n",
       "      <td>0.65252</td>\n",
       "      <td>0.65270</td>\n",
       "      <td>1167</td>\n",
       "      <td>2</td>\n",
       "      <td>0</td>\n",
       "      <td>1711342800</td>\n",
       "    </tr>\n",
       "    <tr>\n",
       "      <th>1639</th>\n",
       "      <td>2024-03-25 06:00:00</td>\n",
       "      <td>0.65270</td>\n",
       "      <td>0.65298</td>\n",
       "      <td>0.65250</td>\n",
       "      <td>0.65265</td>\n",
       "      <td>753</td>\n",
       "      <td>3</td>\n",
       "      <td>0</td>\n",
       "      <td>1711346400</td>\n",
       "    </tr>\n",
       "    <tr>\n",
       "      <th>1640</th>\n",
       "      <td>2024-03-25 07:00:00</td>\n",
       "      <td>0.65265</td>\n",
       "      <td>0.65276</td>\n",
       "      <td>0.65231</td>\n",
       "      <td>0.65254</td>\n",
       "      <td>1040</td>\n",
       "      <td>1</td>\n",
       "      <td>0</td>\n",
       "      <td>1711350000</td>\n",
       "    </tr>\n",
       "    <tr>\n",
       "      <th>1641</th>\n",
       "      <td>2024-03-25 08:00:00</td>\n",
       "      <td>0.65255</td>\n",
       "      <td>0.65257</td>\n",
       "      <td>0.65202</td>\n",
       "      <td>0.65217</td>\n",
       "      <td>1328</td>\n",
       "      <td>1</td>\n",
       "      <td>0</td>\n",
       "      <td>1711353600</td>\n",
       "    </tr>\n",
       "    <tr>\n",
       "      <th>1642</th>\n",
       "      <td>2024-03-25 09:00:00</td>\n",
       "      <td>0.65217</td>\n",
       "      <td>0.65279</td>\n",
       "      <td>0.65165</td>\n",
       "      <td>0.65216</td>\n",
       "      <td>1517</td>\n",
       "      <td>2</td>\n",
       "      <td>0</td>\n",
       "      <td>1711357200</td>\n",
       "    </tr>\n",
       "  </tbody>\n",
       "</table>\n",
       "<p>1643 rows × 9 columns</p>\n",
       "</div>"
      ],
      "text/plain": [
       "                    time     open     high      low    close  tick_volume  \\\n",
       "0    2023-12-18 00:00:00  0.66970  0.67030  0.66947  0.66981         1578   \n",
       "1    2023-12-18 01:00:00  0.66985  0.67031  0.66929  0.66983         1599   \n",
       "2    2023-12-18 02:00:00  0.66982  0.67090  0.66978  0.67079         2536   \n",
       "3    2023-12-18 03:00:00  0.67079  0.67109  0.66928  0.66994         3190   \n",
       "4    2023-12-18 04:00:00  0.66994  0.67094  0.66994  0.67061         2271   \n",
       "...                  ...      ...      ...      ...      ...          ...   \n",
       "1638 2024-03-25 05:00:00  0.65408  0.65409  0.65252  0.65270         1167   \n",
       "1639 2024-03-25 06:00:00  0.65270  0.65298  0.65250  0.65265          753   \n",
       "1640 2024-03-25 07:00:00  0.65265  0.65276  0.65231  0.65254         1040   \n",
       "1641 2024-03-25 08:00:00  0.65255  0.65257  0.65202  0.65217         1328   \n",
       "1642 2024-03-25 09:00:00  0.65217  0.65279  0.65165  0.65216         1517   \n",
       "\n",
       "      spread  real_volume  time_value  \n",
       "0         14            0  1702857600  \n",
       "1          4            0  1702861200  \n",
       "2          4            0  1702864800  \n",
       "3          4            0  1702868400  \n",
       "4          0            0  1702872000  \n",
       "...      ...          ...         ...  \n",
       "1638       2            0  1711342800  \n",
       "1639       3            0  1711346400  \n",
       "1640       1            0  1711350000  \n",
       "1641       1            0  1711353600  \n",
       "1642       2            0  1711357200  \n",
       "\n",
       "[1643 rows x 9 columns]"
      ]
     },
     "execution_count": 12,
     "metadata": {},
     "output_type": "execute_result"
    }
   ],
   "source": [
    "update.user.get_bars('AUDUSD','1h',period_days=100)"
   ]
  },
  {
   "cell_type": "code",
   "execution_count": null,
   "metadata": {},
   "outputs": [],
   "source": [
    "symbols = ['AUDUSD','EURUSD','GBPUSD','NZDUSD','USDCAD','USDJPY']\n",
    "for symbol in symbols:\n",
    "  df = ac.get_bars(symbol,'1h',period_days=4000)\n",
    "  db.create_table_from_df(table_name=symbol,df=df)\n",
    "db.commit()\n",
    "db.close()"
   ]
  },
  {
   "cell_type": "code",
   "execution_count": 4,
   "metadata": {},
   "outputs": [
    {
     "name": "stdout",
     "output_type": "stream",
     "text": [
      "Logged in as 80273160\n"
     ]
    }
   ],
   "source": [
    "ac = User().login_by_dict(ac_info)"
   ]
  },
  {
   "cell_type": "code",
   "execution_count": 5,
   "metadata": {},
   "outputs": [
    {
     "name": "stdout",
     "output_type": "stream",
     "text": [
      "Getting 1h bars of XAUUSD from 2013-04-12 07:30:46.262861+00:00 to 2024-03-25 07:30:46.262861+00:00\n"
     ]
    },
    {
     "data": {
      "text/html": [
       "<div>\n",
       "<style scoped>\n",
       "    .dataframe tbody tr th:only-of-type {\n",
       "        vertical-align: middle;\n",
       "    }\n",
       "\n",
       "    .dataframe tbody tr th {\n",
       "        vertical-align: top;\n",
       "    }\n",
       "\n",
       "    .dataframe thead th {\n",
       "        text-align: right;\n",
       "    }\n",
       "</style>\n",
       "<table border=\"1\" class=\"dataframe\">\n",
       "  <thead>\n",
       "    <tr style=\"text-align: right;\">\n",
       "      <th></th>\n",
       "      <th>time</th>\n",
       "      <th>open</th>\n",
       "      <th>high</th>\n",
       "      <th>low</th>\n",
       "      <th>close</th>\n",
       "      <th>tick_volume</th>\n",
       "      <th>spread</th>\n",
       "      <th>real_volume</th>\n",
       "    </tr>\n",
       "  </thead>\n",
       "  <tbody>\n",
       "    <tr>\n",
       "      <th>0</th>\n",
       "      <td>2013-04-12 08:00:00</td>\n",
       "      <td>1560.99</td>\n",
       "      <td>1564.71</td>\n",
       "      <td>1560.80</td>\n",
       "      <td>1563.53</td>\n",
       "      <td>3806</td>\n",
       "      <td>23</td>\n",
       "      <td>946000</td>\n",
       "    </tr>\n",
       "    <tr>\n",
       "      <th>1</th>\n",
       "      <td>2013-04-12 09:00:00</td>\n",
       "      <td>1563.53</td>\n",
       "      <td>1563.63</td>\n",
       "      <td>1560.80</td>\n",
       "      <td>1561.55</td>\n",
       "      <td>4039</td>\n",
       "      <td>20</td>\n",
       "      <td>1096700</td>\n",
       "    </tr>\n",
       "    <tr>\n",
       "      <th>2</th>\n",
       "      <td>2013-04-12 10:00:00</td>\n",
       "      <td>1561.59</td>\n",
       "      <td>1561.63</td>\n",
       "      <td>1556.94</td>\n",
       "      <td>1557.04</td>\n",
       "      <td>6341</td>\n",
       "      <td>21</td>\n",
       "      <td>1685990</td>\n",
       "    </tr>\n",
       "    <tr>\n",
       "      <th>3</th>\n",
       "      <td>2013-04-12 11:00:00</td>\n",
       "      <td>1557.04</td>\n",
       "      <td>1558.05</td>\n",
       "      <td>1556.88</td>\n",
       "      <td>1557.20</td>\n",
       "      <td>4950</td>\n",
       "      <td>18</td>\n",
       "      <td>1307760</td>\n",
       "    </tr>\n",
       "    <tr>\n",
       "      <th>4</th>\n",
       "      <td>2013-04-12 12:00:00</td>\n",
       "      <td>1557.19</td>\n",
       "      <td>1557.19</td>\n",
       "      <td>1545.10</td>\n",
       "      <td>1545.63</td>\n",
       "      <td>13158</td>\n",
       "      <td>17</td>\n",
       "      <td>3626680</td>\n",
       "    </tr>\n",
       "    <tr>\n",
       "      <th>...</th>\n",
       "      <td>...</td>\n",
       "      <td>...</td>\n",
       "      <td>...</td>\n",
       "      <td>...</td>\n",
       "      <td>...</td>\n",
       "      <td>...</td>\n",
       "      <td>...</td>\n",
       "      <td>...</td>\n",
       "    </tr>\n",
       "    <tr>\n",
       "      <th>64408</th>\n",
       "      <td>2024-03-25 03:00:00</td>\n",
       "      <td>2165.49</td>\n",
       "      <td>2176.90</td>\n",
       "      <td>2164.03</td>\n",
       "      <td>2175.14</td>\n",
       "      <td>5505</td>\n",
       "      <td>5</td>\n",
       "      <td>0</td>\n",
       "    </tr>\n",
       "    <tr>\n",
       "      <th>64409</th>\n",
       "      <td>2024-03-25 04:00:00</td>\n",
       "      <td>2175.16</td>\n",
       "      <td>2178.29</td>\n",
       "      <td>2173.77</td>\n",
       "      <td>2175.05</td>\n",
       "      <td>3268</td>\n",
       "      <td>5</td>\n",
       "      <td>0</td>\n",
       "    </tr>\n",
       "    <tr>\n",
       "      <th>64410</th>\n",
       "      <td>2024-03-25 05:00:00</td>\n",
       "      <td>2175.05</td>\n",
       "      <td>2175.09</td>\n",
       "      <td>2170.03</td>\n",
       "      <td>2170.60</td>\n",
       "      <td>3001</td>\n",
       "      <td>5</td>\n",
       "      <td>0</td>\n",
       "    </tr>\n",
       "    <tr>\n",
       "      <th>64411</th>\n",
       "      <td>2024-03-25 06:00:00</td>\n",
       "      <td>2170.60</td>\n",
       "      <td>2171.56</td>\n",
       "      <td>2169.13</td>\n",
       "      <td>2169.41</td>\n",
       "      <td>1832</td>\n",
       "      <td>7</td>\n",
       "      <td>0</td>\n",
       "    </tr>\n",
       "    <tr>\n",
       "      <th>64412</th>\n",
       "      <td>2024-03-25 07:00:00</td>\n",
       "      <td>2169.41</td>\n",
       "      <td>2171.04</td>\n",
       "      <td>2167.75</td>\n",
       "      <td>2169.79</td>\n",
       "      <td>2434</td>\n",
       "      <td>5</td>\n",
       "      <td>0</td>\n",
       "    </tr>\n",
       "  </tbody>\n",
       "</table>\n",
       "<p>64413 rows × 8 columns</p>\n",
       "</div>"
      ],
      "text/plain": [
       "                     time     open     high      low    close  tick_volume  \\\n",
       "0     2013-04-12 08:00:00  1560.99  1564.71  1560.80  1563.53         3806   \n",
       "1     2013-04-12 09:00:00  1563.53  1563.63  1560.80  1561.55         4039   \n",
       "2     2013-04-12 10:00:00  1561.59  1561.63  1556.94  1557.04         6341   \n",
       "3     2013-04-12 11:00:00  1557.04  1558.05  1556.88  1557.20         4950   \n",
       "4     2013-04-12 12:00:00  1557.19  1557.19  1545.10  1545.63        13158   \n",
       "...                   ...      ...      ...      ...      ...          ...   \n",
       "64408 2024-03-25 03:00:00  2165.49  2176.90  2164.03  2175.14         5505   \n",
       "64409 2024-03-25 04:00:00  2175.16  2178.29  2173.77  2175.05         3268   \n",
       "64410 2024-03-25 05:00:00  2175.05  2175.09  2170.03  2170.60         3001   \n",
       "64411 2024-03-25 06:00:00  2170.60  2171.56  2169.13  2169.41         1832   \n",
       "64412 2024-03-25 07:00:00  2169.41  2171.04  2167.75  2169.79         2434   \n",
       "\n",
       "       spread  real_volume  \n",
       "0          23       946000  \n",
       "1          20      1096700  \n",
       "2          21      1685990  \n",
       "3          18      1307760  \n",
       "4          17      3626680  \n",
       "...       ...          ...  \n",
       "64408       5            0  \n",
       "64409       5            0  \n",
       "64410       5            0  \n",
       "64411       7            0  \n",
       "64412       5            0  \n",
       "\n",
       "[64413 rows x 8 columns]"
      ]
     },
     "execution_count": 5,
     "metadata": {},
     "output_type": "execute_result"
    }
   ],
   "source": [
    "ac.get_bars('XAUUSD','1h',period_days=4000)"
   ]
  },
  {
   "cell_type": "code",
   "execution_count": 12,
   "metadata": {},
   "outputs": [
    {
     "name": "stdout",
     "output_type": "stream",
     "text": [
      "Connected to bars\n"
     ]
    }
   ],
   "source": [
    "db = DataBase()\n",
    "db.connect_by_dict(db_info)"
   ]
  },
  {
   "cell_type": "code",
   "execution_count": 13,
   "metadata": {},
   "outputs": [
    {
     "name": "stdout",
     "output_type": "stream",
     "text": [
      "Getting 1h bars of AUDUSD from 2013-04-09 14:29:25.679662+00:00 to 2024-03-22 14:29:25.679662+00:00\n",
      "Getting 1h bars of EURUSD from 2013-04-09 14:29:36.198662+00:00 to 2024-03-22 14:29:36.198662+00:00\n",
      "Getting 1h bars of GBPUSD from 2013-04-09 14:29:46.394661+00:00 to 2024-03-22 14:29:46.394661+00:00\n",
      "Getting 1h bars of NZDUSD from 2013-04-09 14:29:56.607660+00:00 to 2024-03-22 14:29:56.607660+00:00\n",
      "Getting 1h bars of USDCAD from 2013-04-09 14:30:06.861662+00:00 to 2024-03-22 14:30:06.861662+00:00\n",
      "Getting 1h bars of USDJPY from 2013-04-09 14:30:17.188661+00:00 to 2024-03-22 14:30:17.188661+00:00\n"
     ]
    }
   ],
   "source": [
    "symbols = ['AUDUSD','EURUSD','GBPUSD','NZDUSD','USDCAD','USDJPY']\n",
    "for symbol in symbols:\n",
    "  df = ac.get_bars(symbol,'1h',period_days=4000)\n",
    "  db.create_table_from_df(table_name=symbol,df=df)\n",
    "db.commit()\n",
    "db.close()"
   ]
  },
  {
   "cell_type": "code",
   "execution_count": 11,
   "metadata": {},
   "outputs": [],
   "source": [
    "db.close()"
   ]
  },
  {
   "cell_type": "code",
   "execution_count": 17,
   "metadata": {},
   "outputs": [
    {
     "data": {
      "text/plain": [
       "[('time',),\n",
       " ('open',),\n",
       " ('high',),\n",
       " ('low',),\n",
       " ('close',),\n",
       " ('tick_volume',),\n",
       " ('spread',),\n",
       " ('real_volume',),\n",
       " ('id',)]"
      ]
     },
     "execution_count": 17,
     "metadata": {},
     "output_type": "execute_result"
    }
   ],
   "source": []
  },
  {
   "cell_type": "code",
   "execution_count": 10,
   "metadata": {},
   "outputs": [],
   "source": [
    "db.commit()\n",
    "db.close()"
   ]
  },
  {
   "cell_type": "code",
   "execution_count": 7,
   "metadata": {},
   "outputs": [
    {
     "data": {
      "text/plain": [
       "time           datetime64[ns]\n",
       "open                  float64\n",
       "high                  float64\n",
       "low                   float64\n",
       "close                 float64\n",
       "tick_volume            uint64\n",
       "spread                  int32\n",
       "real_volume            uint64\n",
       "id                     object\n",
       "dtype: object"
      ]
     },
     "execution_count": 7,
     "metadata": {},
     "output_type": "execute_result"
    }
   ],
   "source": [
    "df.dtypes"
   ]
  },
  {
   "cell_type": "code",
   "execution_count": null,
   "metadata": {},
   "outputs": [],
   "source": [
    "symbols = ['AUDUSD','EURUSD','GBPUSD','NZDUSD','USDCAD','USDJPY']\n",
    "for symbol in symbols:\n",
    "  df = ac.get_bars(symbol,'1h',period_days=4000)\n",
    "  "
   ]
  },
  {
   "cell_type": "code",
   "execution_count": 6,
   "metadata": {},
   "outputs": [
    {
     "ename": "UndefinedColumn",
     "evalue": "column \"createddatetime\" does not exist\nLINE 2: SELECT * FROM audusd ORDER BY CreatedDateTime DESC LIMIT 10;\n                                      ^\n",
     "output_type": "error",
     "traceback": [
      "\u001b[1;31m---------------------------------------------------------------------------\u001b[0m",
      "\u001b[1;31mUndefinedColumn\u001b[0m                           Traceback (most recent call last)",
      "Cell \u001b[1;32mIn[6], line 1\u001b[0m\n\u001b[1;32m----> 1\u001b[0m \u001b[43mdb\u001b[49m\u001b[38;5;241;43m.\u001b[39;49m\u001b[43mread_tail\u001b[49m\u001b[43m(\u001b[49m\u001b[38;5;124;43m'\u001b[39;49m\u001b[38;5;124;43maudusd\u001b[39;49m\u001b[38;5;124;43m'\u001b[39;49m\u001b[43m,\u001b[49m\u001b[38;5;241;43m10\u001b[39;49m\u001b[43m)\u001b[49m\n",
      "File \u001b[1;32me:\\Document\\GitHub\\Trading-Modules\\postgres_interface.py:117\u001b[0m, in \u001b[0;36mDataBase.read_tail\u001b[1;34m(self, table_name, n_rows)\u001b[0m\n\u001b[0;32m    113\u001b[0m         columns \u001b[38;5;241m=\u001b[39m \u001b[38;5;28mself\u001b[39m\u001b[38;5;241m.\u001b[39mread_columns(table_name)\n\u001b[0;32m    114\u001b[0m         cmd \u001b[38;5;241m=\u001b[39m \u001b[38;5;124mf\u001b[39m\u001b[38;5;124m\"\"\"\u001b[39m\n\u001b[0;32m    115\u001b[0m \u001b[38;5;124mSELECT * FROM \u001b[39m\u001b[38;5;132;01m{\u001b[39;00mtable_name\u001b[38;5;132;01m}\u001b[39;00m\u001b[38;5;124m ORDER BY CreatedDateTime DESC LIMIT \u001b[39m\u001b[38;5;132;01m{\u001b[39;00mn_rows\u001b[38;5;132;01m}\u001b[39;00m\u001b[38;5;124m;\u001b[39m\n\u001b[0;32m    116\u001b[0m \u001b[38;5;124m        \u001b[39m\u001b[38;5;124m\"\"\"\u001b[39m\n\u001b[1;32m--> 117\u001b[0m         \u001b[38;5;28;43mself\u001b[39;49m\u001b[38;5;241;43m.\u001b[39;49m\u001b[43mcur\u001b[49m\u001b[38;5;241;43m.\u001b[39;49m\u001b[43mexecute\u001b[49m\u001b[43m(\u001b[49m\u001b[43mcmd\u001b[49m\u001b[43m)\u001b[49m\n\u001b[0;32m    118\u001b[0m         df \u001b[38;5;241m=\u001b[39m pd\u001b[38;5;241m.\u001b[39mDataFrame(\u001b[38;5;28mself\u001b[39m\u001b[38;5;241m.\u001b[39mcur\u001b[38;5;241m.\u001b[39mfetchall(), columns\u001b[38;5;241m=\u001b[39mcolumns)\n\u001b[0;32m    119\u001b[0m         \u001b[38;5;28;01mreturn\u001b[39;00m df\n",
      "\u001b[1;31mUndefinedColumn\u001b[0m: column \"createddatetime\" does not exist\nLINE 2: SELECT * FROM audusd ORDER BY CreatedDateTime DESC LIMIT 10;\n                                      ^\n"
     ]
    }
   ],
   "source": [
    "db.read_tail('audusd',10)"
   ]
  },
  {
   "cell_type": "code",
   "execution_count": 7,
   "metadata": {},
   "outputs": [],
   "source": [
    "db.close()"
   ]
  },
  {
   "cell_type": "code",
   "execution_count": null,
   "metadata": {},
   "outputs": [],
   "source": [
    "data_path = f'Data/Forex/GBPUSD.csv'\n",
    "data = pd.read_csv(data_path)"
   ]
  },
  {
   "cell_type": "code",
   "execution_count": null,
   "metadata": {},
   "outputs": [],
   "source": [
    "data.set_index('Datetime',inplace=True)\n",
    "data.sort_index(ascending=True,inplace=True)"
   ]
  },
  {
   "cell_type": "markdown",
   "metadata": {},
   "source": [
    "# Models"
   ]
  },
  {
   "cell_type": "code",
   "execution_count": null,
   "metadata": {},
   "outputs": [],
   "source": [
    "signal = []\n",
    "train_size = 12000\n",
    "start = 1000\n",
    "for i in range(0+start,24+start):\n",
    "  train_set = data.iloc[i:train_size+i]\n",
    "  \n",
    "  model = ShortTermBollingerBand(train_set.Open,\n",
    "                         train_set.High,\n",
    "                         train_set.Low,\n",
    "                         train_set.Close,\n",
    "                         train_set.Volume)\n",
    "  signal.append(model.signal)"
   ]
  },
  {
   "cell_type": "code",
   "execution_count": null,
   "metadata": {},
   "outputs": [],
   "source": [
    "pos = pd.Series(signal,index=data.index[train_size+start:train_size+start+24])\n",
    "logret = data.Close.diff().shift(-1)\n",
    "pnl = pos*logret\n",
    "pnl.dropna().cumsum().plot()\n"
   ]
  },
  {
   "cell_type": "markdown",
   "metadata": {},
   "source": [
    "# Rules"
   ]
  },
  {
   "cell_type": "code",
   "execution_count": null,
   "metadata": {},
   "outputs": [],
   "source": [
    "def store_rule(rule_obj:TradingRule,signals,bisignals,pnls):\n",
    "  signals.append(rule_obj.signal)\n",
    "  bisignals.append(rule_obj.bisignal)\n",
    "  pnls.append(rule_obj.pnl)"
   ]
  },
  {
   "cell_type": "code",
   "execution_count": null,
   "metadata": {},
   "outputs": [],
   "source": [
    "from itertools import product\n",
    "signals = []\n",
    "bisignals = []\n",
    "pnls = []\n",
    "\n",
    "lookbacks = [12*2**i for i in range(6)]\n",
    "\n",
    "for lookback in lookbacks:\n",
    "  for thr in [0.85,0.95,0.99]:\n",
    "    store_rule(ChannelBreakout(lookback,thr,\n",
    "                    data.Open,data.High,data.Low,data.Close,data.Volume),\n",
    "              signals,bisignals,pnls)\n",
    "    store_rule(SkewPremium(lookback,thr,\n",
    "                    data.Open,data.High,data.Low,data.Close,data.Volume),\n",
    "              signals,bisignals,pnls)\n",
    "    store_rule(KurtReversal(lookback,thr,\n",
    "                    data.Open,data.High,data.Low,data.Close,data.Volume),\n",
    "              signals,bisignals,pnls)\n",
    "  for thr in [1,2,3]:\n",
    "    store_rule(EWMAC(lookback,thr,\n",
    "                    data.Open,data.High,data.Low,data.Close,data.Volume),\n",
    "              signals,bisignals,pnls)\n",
    "    store_rule(BollingerBand(lookback,thr,\n",
    "                    data.Open,data.High,data.Low,data.Close,data.Volume),\n",
    "              signals,bisignals,pnls)\n",
    "    store_rule(NDayMomentum(lookback,thr,\n",
    "                    data.Open,data.High,data.Low,data.Close,data.Volume),\n",
    "              signals,bisignals,pnls)\n",
    "  "
   ]
  },
  {
   "cell_type": "code",
   "execution_count": null,
   "metadata": {},
   "outputs": [],
   "source": [
    "signals_df = pd.concat(signals,axis=1).dropna()\n",
    "bisignals_df = pd.concat(bisignals,axis=1).dropna()\n",
    "pnls_df = pd.concat(pnls,axis=1).dropna()"
   ]
  },
  {
   "cell_type": "code",
   "execution_count": null,
   "metadata": {},
   "outputs": [],
   "source": [
    "def sr(pnl):\n",
    "  pnl = pnl.fillna(0)\n",
    "  mu = pnl.mean()\n",
    "  sig = pnl.std()\n",
    "  n_per_year = 24*252\n",
    "  sr = mu/sig*n_per_year**0.5\n",
    "  return sr"
   ]
  },
  {
   "cell_type": "code",
   "execution_count": null,
   "metadata": {},
   "outputs": [],
   "source": [
    "strats = ['EWMAC','ChannelBreakout','NDayMomentum','BollingerBand','SkewPremium','KurtReversal']\n",
    "\n",
    "fig,axes = plt.subplots(2,3,figsize=(30,16))\n",
    "for i,strat in enumerate(strats):\n",
    "  cols = pnls_df.columns[pnls_df.columns.str.match(f'{strat}_*')]\n",
    "  ax = axes[i//3,i%3]\n",
    "  pnls_df.loc[:,cols].cumsum().plot(ax=ax)"
   ]
  },
  {
   "cell_type": "markdown",
   "metadata": {},
   "source": [
    "# KMean"
   ]
  },
  {
   "cell_type": "code",
   "execution_count": null,
   "metadata": {},
   "outputs": [],
   "source": [
    "from sklearn.cluster import KMeans"
   ]
  },
  {
   "cell_type": "code",
   "execution_count": null,
   "metadata": {},
   "outputs": [],
   "source": [
    "n_clusters = 12\n",
    "kmeans = KMeans(n_clusters=n_clusters, random_state=0, n_init=\"auto\")\n",
    "kmeans.fit(pnls_df.corr())\n",
    "groups = kmeans.labels_\n",
    "\n",
    "port = {i: list() for i in range(n_clusters)}\n",
    "for i,group in enumerate(groups):\n",
    "  port[group].append(pnls_df.columns[i])"
   ]
  },
  {
   "cell_type": "code",
   "execution_count": null,
   "metadata": {},
   "outputs": [],
   "source": [
    "fig,axes = plt.subplots(4,3,figsize=(30,32))\n",
    "for i,s_list in (port.items()):\n",
    "  ax = axes[i//3,i%3]\n",
    "  pnls_df.loc[:,s_list].cumsum().plot(ax=ax)"
   ]
  },
  {
   "cell_type": "code",
   "execution_count": null,
   "metadata": {},
   "outputs": [],
   "source": [
    "import pickle\n",
    "\n",
    "\n",
    "def save_pickle(obj, filename):\n",
    "    with open(f\"{filename}.pickle\", \"wb\") as handle:\n",
    "        pickle.dump(obj, handle, protocol=pickle.HIGHEST_PROTOCOL)\n",
    "def load_pickle(filename):\n",
    "    with open(f\"{filename}.pickle\", \"rb\") as handle:\n",
    "        obj = pickle.load(handle)\n",
    "        return obj"
   ]
  },
  {
   "cell_type": "code",
   "execution_count": null,
   "metadata": {},
   "outputs": [],
   "source": [
    "save_pickle(port,'strat_cluster')"
   ]
  },
  {
   "cell_type": "code",
   "execution_count": null,
   "metadata": {},
   "outputs": [],
   "source": [
    "port = load_pickle('strat_cluster')"
   ]
  },
  {
   "cell_type": "markdown",
   "metadata": {},
   "source": [
    "# Labelling"
   ]
  },
  {
   "cell_type": "code",
   "execution_count": null,
   "metadata": {},
   "outputs": [],
   "source": [
    "def get_label(prc, tp, sl, hd):\n",
    "    log_prc = np.log(prc)\n",
    "    log_ret = log_prc.diff().shift(-1)\n",
    "    ew_vol = np.sqrt((log_ret**2).ewm(40, min_periods=40).mean())\n",
    "\n",
    "    # tp = window**0.5\n",
    "    # sl = window**0.5\n",
    "    # hd = window\n",
    "\n",
    "    # print(tp , sl , hd)\n",
    "    label = []\n",
    "\n",
    "    for i, ret in log_ret.items():\n",
    "        up_bar = ew_vol.loc[i] * tp\n",
    "        low_bar = ew_vol.loc[i] * -sl\n",
    "        time_bar = hd\n",
    "\n",
    "        future_ret = log_ret.loc[i:]\n",
    "        cum_ret = ret\n",
    "        cum_day = 1\n",
    "        while True:\n",
    "            if cum_ret >= up_bar:\n",
    "                label.append(+2)\n",
    "                break\n",
    "            elif cum_ret <= low_bar:\n",
    "                label.append(np.sign(cum_ret))\n",
    "                break\n",
    "            elif cum_day >= time_bar or cum_day >= future_ret.shape[0]:\n",
    "                label.append(-2)\n",
    "                break\n",
    "\n",
    "            ret = future_ret.iloc[cum_day]\n",
    "            cum_day += 1\n",
    "            cum_ret += ret\n",
    "\n",
    "    label = pd.Series(label, index=log_ret.index, name=\"LABEL\")\n",
    "    return label"
   ]
  },
  {
   "cell_type": "code",
   "execution_count": null,
   "metadata": {},
   "outputs": [],
   "source": [
    "tp,sl,hd = 5,5,24\n",
    "label = get_label(data.Close,tp,sl,hd)"
   ]
  },
  {
   "cell_type": "code",
   "execution_count": null,
   "metadata": {},
   "outputs": [],
   "source": [
    "from sklearn.ensemble import RandomForestClassifier\n",
    "from sklearn.linear_model import LogisticRegression\n",
    "from sklearn.naive_bayes import GaussianNB\n",
    "from statsmodels.api import OLS\n",
    "\n",
    "from numpy.lib.stride_tricks import sliding_window_view"
   ]
  },
  {
   "cell_type": "code",
   "execution_count": null,
   "metadata": {},
   "outputs": [],
   "source": [
    "def get_pred(dataset):\n",
    "    #dataset = dataset[0,0]\n",
    "    #print(dataset)\n",
    "    train_set = dataset[:, :-1]\n",
    "    test_set = dataset[:, -1]\n",
    "    train_y, train_x = train_set[0], train_set[1:]\n",
    "    test_y, test_x = test_set[0], test_set[1:]\n",
    "    #model = RandomForestClassifier(n_estimators=500, max_depth=3, random_state=300300)\n",
    "    model = GaussianNB()\n",
    "    #model = LogisticRegression(penalty='l2',random_state=300300)\n",
    "    model.fit(y=train_y, X=train_x.T)\n",
    "    pred = model.predict(test_x.reshape(1, -1))[0]\n",
    "    return pred"
   ]
  },
  {
   "cell_type": "code",
   "execution_count": null,
   "metadata": {},
   "outputs": [],
   "source": [
    "p = pd.concat([label,bisignals_df.loc[:,port[3]]],axis=1).dropna()\n",
    "lookback = 9600\n",
    "\n",
    "# create rolling datasets for each day\n",
    "rolling = sliding_window_view(p,axis=0, window_shape=lookback+1)\n",
    "# random forest prediction\n",
    "#pred = np.apply_over_axis(get_pred, axis=1, arr=rolling)\n",
    "size = 70000\n",
    "pred = [get_pred(dataset) for dataset in rolling[:size]]\n",
    "pred_d = pd.Series(pred,p.index[lookback+1:lookback+1+size])"
   ]
  },
  {
   "cell_type": "code",
   "execution_count": null,
   "metadata": {},
   "outputs": [],
   "source": [
    "pred_d = pd.Series(pred,p.index[lookback:lookback+size])"
   ]
  },
  {
   "cell_type": "code",
   "execution_count": null,
   "metadata": {},
   "outputs": [],
   "source": [
    "pred_d"
   ]
  },
  {
   "cell_type": "code",
   "execution_count": null,
   "metadata": {},
   "outputs": [],
   "source": [
    "sr(pred_d * data.Close.diff().shift(-1))"
   ]
  },
  {
   "cell_type": "code",
   "execution_count": null,
   "metadata": {},
   "outputs": [],
   "source": [
    "sr(pnls_df.loc[:,port[3]].mean(axis=1))"
   ]
  },
  {
   "cell_type": "code",
   "execution_count": null,
   "metadata": {},
   "outputs": [],
   "source": [
    "(pred_d/2 * data.Close.diff().shift(-1)).dropna().cumsum().plot()\n",
    "(pnls_df.loc[:,port[9]].mean(axis=1)).cumsum().plot()\n",
    "data.Close.diff().shift(-1).cumsum().plot()"
   ]
  },
  {
   "cell_type": "code",
   "execution_count": null,
   "metadata": {},
   "outputs": [],
   "source": [
    "pred_d = pd.Series(pred,p.index[2401:2401+5000])\n",
    "pred_d.tail()"
   ]
  },
  {
   "cell_type": "code",
   "execution_count": null,
   "metadata": {},
   "outputs": [],
   "source": [
    "vf = np.vectorize(lambda x: print(x))\n",
    "vf(rolling[:1])"
   ]
  },
  {
   "cell_type": "code",
   "execution_count": null,
   "metadata": {},
   "outputs": [],
   "source": [
    "vget_pred = np.vectorize(get_pred)\n",
    "vget_pred(rolling[:2])"
   ]
  },
  {
   "cell_type": "code",
   "execution_count": null,
   "metadata": {},
   "outputs": [],
   "source": [
    "r1[:,-10:]"
   ]
  },
  {
   "cell_type": "code",
   "execution_count": null,
   "metadata": {},
   "outputs": [],
   "source": [
    "p.iloc[2391:2401]"
   ]
  },
  {
   "cell_type": "code",
   "execution_count": null,
   "metadata": {},
   "outputs": [],
   "source": []
  },
  {
   "cell_type": "markdown",
   "metadata": {},
   "source": [
    "# AggClust"
   ]
  },
  {
   "cell_type": "code",
   "execution_count": null,
   "metadata": {},
   "outputs": [],
   "source": [
    "from scipy.cluster.hierarchy import dendrogram\n",
    "from sklearn.cluster import AgglomerativeClustering"
   ]
  },
  {
   "cell_type": "code",
   "execution_count": null,
   "metadata": {},
   "outputs": [],
   "source": [
    "def plot_dendrogram(model,ax):\n",
    "    # Create linkage matrix and then plot the dendrogram\n",
    "\n",
    "    # create the counts of samples under each node\n",
    "    counts = np.zeros(model.children_.shape[0])\n",
    "    n_samples = len(model.labels_)\n",
    "    for i, merge in enumerate(model.children_):\n",
    "        current_count = 0\n",
    "        for child_idx in merge:\n",
    "            if child_idx < n_samples:\n",
    "                current_count += 1  # leaf node\n",
    "            else:\n",
    "                current_count += counts[child_idx - n_samples]\n",
    "        counts[i] = current_count\n",
    "\n",
    "    linkage_matrix = np.column_stack(\n",
    "        [model.children_, model.distances_, counts]\n",
    "    ).astype(float)\n",
    "\n",
    "    # Plot the corresponding dendrogram\n",
    "    dendrogram(linkage_matrix,ax=ax)"
   ]
  },
  {
   "cell_type": "code",
   "execution_count": null,
   "metadata": {},
   "outputs": [],
   "source": [
    "model = AgglomerativeClustering(distance_threshold=0, n_clusters=None)\n",
    "model.fit(pnls_df.corr())"
   ]
  },
  {
   "cell_type": "code",
   "execution_count": null,
   "metadata": {},
   "outputs": [],
   "source": [
    "model.n_clusters_"
   ]
  },
  {
   "cell_type": "code",
   "execution_count": null,
   "metadata": {},
   "outputs": [],
   "source": [
    "fig,ax = plt.subplots(figsize=(40,16))\n",
    "plot_dendrogram(model,ax=ax)"
   ]
  },
  {
   "cell_type": "markdown",
   "metadata": {},
   "source": [
    "# HRP"
   ]
  },
  {
   "cell_type": "code",
   "execution_count": null,
   "metadata": {},
   "outputs": [],
   "source": [
    "from pypfopt.hierarchical_portfolio import HRPOpt"
   ]
  },
  {
   "cell_type": "code",
   "execution_count": null,
   "metadata": {},
   "outputs": [],
   "source": [
    "hrp = HRPOpt(pnls_df)"
   ]
  },
  {
   "cell_type": "code",
   "execution_count": null,
   "metadata": {},
   "outputs": [],
   "source": [
    "hrp.optimize()"
   ]
  },
  {
   "cell_type": "code",
   "execution_count": null,
   "metadata": {},
   "outputs": [],
   "source": [
    "hrp.portfolio_performance(risk_free_rate=0,frequency=252*24)"
   ]
  }
 ],
 "metadata": {
  "kernelspec": {
   "display_name": "base",
   "language": "python",
   "name": "python3"
  },
  "language_info": {
   "codemirror_mode": {
    "name": "ipython",
    "version": 3
   },
   "file_extension": ".py",
   "mimetype": "text/x-python",
   "name": "python",
   "nbconvert_exporter": "python",
   "pygments_lexer": "ipython3",
   "version": "3.10.9"
  }
 },
 "nbformat": 4,
 "nbformat_minor": 2
}
