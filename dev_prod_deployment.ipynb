{
 "cells": [
  {
   "cell_type": "code",
   "execution_count": 1,
   "metadata": {},
   "outputs": [],
   "source": [
    "import shutil\n",
    "import os\n",
    "import datetime\n",
    "\n",
    "\n",
    "def copy_folder(src, dst, backup_parent_dir, overwrite=False):\n",
    "    \"\"\"\n",
    "    Copies a folder and all its contents to a new location, backing up the destination folder if it already exists.\n",
    "\n",
    "    Args:\n",
    "        src (str): The source folder path.\n",
    "        dst (str): The destination folder path.\n",
    "        overwrite (bool, optional): If True, the destination folder will be backed up if it already exists. Defaults to False.\n",
    "        backup_parent_dir (str, optional): The parent directory for the backup folder. If not provided, the backup folder will be created in the same directory as the destination folder.\n",
    "    \"\"\"\n",
    "    try:\n",
    "        if overwrite and os.path.exists(dst):\n",
    "            backup_folder_name = datetime.datetime.now().strftime(\"%Y%m%d_%H%M%S\")\n",
    "            backup_folder = os.path.join(backup_parent_dir, backup_folder_name)\n",
    "\n",
    "            os.makedirs(backup_folder, exist_ok=True)\n",
    "            shutil.move(dst, backup_folder)\n",
    "            print(f\"Folder '{dst}' backed up to '{backup_folder}'.\")\n",
    "        shutil.copytree(src, dst)\n",
    "        print(f\"Folder '{src}' copied to '{dst}'.\")\n",
    "    except shutil.Error as e:\n",
    "        print(f\"Error occurred while copying '{src}' to '{dst}':\")\n",
    "        print(e)\n",
    "    except OSError as e:\n",
    "        print(f\"Error occurred while accessing '{src}' or '{dst}':\")\n",
    "        print(e)\n",
    "    finally:\n",
    "        print()\n",
    "\n",
    "\n",
    "def copy_file(src, dst, backup_parent_dir, overwrite=False):\n",
    "    \"\"\"\n",
    "    Copies a file to a new location, backing up the destination file if it already exists.\n",
    "    \n",
    "    Args:\n",
    "        src (str): The source file path.\n",
    "        dst (str): The destination file path.\n",
    "        overwrite (bool, optional): If True, the destination file will be backed up if it already exists. Defaults to False.\n",
    "        backup_parent_dir (str, optional): The parent directory for the backup file. If not provided, the backup file will be created in the same directory as the destination file.\n",
    "    \"\"\"\n",
    "    try:\n",
    "        if overwrite and os.path.exists(dst):\n",
    "            backup_folder_name = datetime.datetime.now().strftime(\"%Y%m%d_%H%M%S\")\n",
    "            backup_folder = os.path.join(backup_parent_dir, backup_folder_name)\n",
    "            os.makedirs(backup_folder, exist_ok=True)\n",
    "            backup_file_name = os.path.split(dst)[1]\n",
    "            backup_file = os.path.join(backup_folder, backup_file_name)\n",
    "            shutil.move(dst, backup_file)\n",
    "            print(f\"File '{dst}' backed up to '{backup_file}'.\")\n",
    "        shutil.copy2(src, dst)\n",
    "        print(f\"File '{src}' copied to '{dst}'.\")\n",
    "    except shutil.Error as e:\n",
    "        print(f\"Error occurred while copying '{src}' to '{dst}':\")\n",
    "        print(e)\n",
    "    except OSError as e:\n",
    "        print(f\"Error occurred while accessing '{src}' or '{dst}':\")\n",
    "        print(e)\n",
    "    finally:\n",
    "        print()"
   ]
  },
  {
   "cell_type": "code",
   "execution_count": 2,
   "metadata": {},
   "outputs": [],
   "source": [
    "dev_config = 'dev/config'\n",
    "dev_modules = 'dev/modules'\n",
    "dev_run = 'dev/run.py'\n",
    "\n",
    "backup_dir = 'backup'\n",
    "prod_config = 'prod/config'\n",
    "prod_modules = 'prod/modules'\n",
    "prod_run = 'prod/run.py'"
   ]
  },
  {
   "cell_type": "code",
   "execution_count": 3,
   "metadata": {},
   "outputs": [
    {
     "name": "stdout",
     "output_type": "stream",
     "text": [
      "Folder 'prod/config' backed up to 'backup\\20240527_031748'.\n",
      "Folder 'dev/config' copied to 'prod/config'.\n",
      "\n",
      "Folder 'prod/modules' backed up to 'backup\\20240527_031748'.\n",
      "Folder 'dev/modules' copied to 'prod/modules'.\n",
      "\n",
      "File 'prod/run.py' backed up to 'backup\\20240527_031748\\run.py'.\n",
      "File 'dev/run.py' copied to 'prod/run.py'.\n",
      "\n"
     ]
    }
   ],
   "source": [
    "copy_folder(dev_config, prod_config, backup_dir, overwrite=True)\n",
    "copy_folder(dev_modules, prod_modules, backup_dir, overwrite=True)\n",
    "copy_file(dev_run, prod_run, backup_dir, overwrite=True)"
   ]
  }
 ],
 "metadata": {
  "kernelspec": {
   "display_name": "base",
   "language": "python",
   "name": "python3"
  },
  "language_info": {
   "codemirror_mode": {
    "name": "ipython",
    "version": 3
   },
   "file_extension": ".py",
   "mimetype": "text/x-python",
   "name": "python",
   "nbconvert_exporter": "python",
   "pygments_lexer": "ipython3",
   "version": "3.10.9"
  }
 },
 "nbformat": 4,
 "nbformat_minor": 2
}
