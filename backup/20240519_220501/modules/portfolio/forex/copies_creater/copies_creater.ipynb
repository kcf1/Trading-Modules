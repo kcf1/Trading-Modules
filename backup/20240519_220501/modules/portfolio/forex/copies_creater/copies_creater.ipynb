{
 "cells": [
  {
   "cell_type": "code",
   "execution_count": 1,
   "metadata": {},
   "outputs": [],
   "source": [
    "import shutil\n",
    "\n",
    "import fileinput"
   ]
  },
  {
   "cell_type": "code",
   "execution_count": 2,
   "metadata": {},
   "outputs": [],
   "source": [
    "def create_file_copy(source_file, destination_file, symbol, rate_name):\n",
    "    try:\n",
    "        shutil.copy(source_file, destination_file)\n",
    "        print(f\"Copy of {source_file} created successfully as {destination_file}.\")\n",
    "\n",
    "        # Replace code inside the copied file\n",
    "        with fileinput.FileInput(destination_file, inplace=True) as file:\n",
    "            for i, line in enumerate(file):\n",
    "                print(\n",
    "                    line.replace(\"EURUSD(Asset)\", f\"{symbol}(Asset)\")\n",
    "                    .replace(\n",
    "                        'self.set_symbol(\"EURUSD\")', f'self.set_symbol(\"{symbol}\")'\n",
    "                    )\n",
    "                    .replace(\n",
    "                        'self.set_usd_rate_name(\"USDUSD\")',\n",
    "                        f'self.set_usd_rate_name(\"{rate_name}\")',\n",
    "                    ),\n",
    "                    end=\"\",\n",
    "                )\n",
    "\n",
    "        print(f\"Code replaced successfully in {destination_file}.\")\n",
    "    except IOError as e:\n",
    "        print(f\"Unable to create a copy of {source_file}: {e}\")"
   ]
  },
  {
   "cell_type": "code",
   "execution_count": 3,
   "metadata": {},
   "outputs": [],
   "source": [
    "symbols_rate = {\n",
    "    \"AUDUSD\": \"USDUSD\",\n",
    "    \"NZDUSD\": \"USDUSD\",\n",
    "    \"EURUSD\": \"USDUSD\",\n",
    "    \"GBPUSD\": \"USDUSD\",\n",
    "    \"USDCAD\": \"USDCAD\",\n",
    "    \"USDCHF\": \"USDCHF\",\n",
    "    \"USDJPY\": \"USDJPY\",\n",
    "}"
   ]
  },
  {
   "cell_type": "code",
   "execution_count": 4,
   "metadata": {},
   "outputs": [
    {
     "name": "stdout",
     "output_type": "stream",
     "text": [
      "Copy of eurusd.py created successfully as audusd.py.\n",
      "Code replaced successfully in audusd.py.\n",
      "Copy of eurusd.py created successfully as nzdusd.py.\n",
      "Code replaced successfully in nzdusd.py.\n",
      "Unable to create a copy of eurusd.py: 'eurusd.py' and 'eurusd.py' are the same file\n",
      "Copy of eurusd.py created successfully as gbpusd.py.\n",
      "Code replaced successfully in gbpusd.py.\n",
      "Copy of eurusd.py created successfully as usdcad.py.\n",
      "Code replaced successfully in usdcad.py.\n",
      "Copy of eurusd.py created successfully as usdchf.py.\n",
      "Code replaced successfully in usdchf.py.\n",
      "Copy of eurusd.py created successfully as usdjpy.py.\n",
      "Code replaced successfully in usdjpy.py.\n"
     ]
    }
   ],
   "source": [
    "source_file = \"eurusd.py\"\n",
    "\n",
    "for symbol, rate_name in symbols_rate.items():\n",
    "    destination_file = f\"{symbol.lower()}.py\"\n",
    "    create_file_copy(source_file, destination_file, symbol, rate_name)"
   ]
  }
 ],
 "metadata": {
  "kernelspec": {
   "display_name": "base",
   "language": "python",
   "name": "python3"
  },
  "language_info": {
   "codemirror_mode": {
    "name": "ipython",
    "version": 3
   },
   "file_extension": ".py",
   "mimetype": "text/x-python",
   "name": "python",
   "nbconvert_exporter": "python",
   "pygments_lexer": "ipython3",
   "version": "3.10.9"
  }
 },
 "nbformat": 4,
 "nbformat_minor": 2
}
