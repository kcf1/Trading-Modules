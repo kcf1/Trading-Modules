{
 "cells": [
  {
   "cell_type": "code",
   "execution_count": 9,
   "metadata": {},
   "outputs": [],
   "source": [
    "import shutil\n",
    "\n",
    "import fileinput"
   ]
  },
  {
   "cell_type": "code",
   "execution_count": 10,
   "metadata": {},
   "outputs": [],
   "source": [
    "def create_file_copy(source_file, destination_file, symbol, rate_name):\n",
    "    try:\n",
    "        shutil.copy(source_file, destination_file)\n",
    "        print(f\"Copy of {source_file} created successfully as {destination_file}.\")\n",
    "\n",
    "        # Replace code inside the copied file\n",
    "        with fileinput.FileInput(destination_file, inplace=True) as file:\n",
    "            for i, line in enumerate(file):\n",
    "                print(\n",
    "                    line.replace(\"AUDUSD(Asset)\", f\"{symbol}(Asset)\")\n",
    "                    .replace(\n",
    "                        'self.set_symbol(\"AUDUSD\")', f'self.set_symbol(\"{symbol}\")'\n",
    "                    )\n",
    "                    .replace(\n",
    "                        'self.set_usd_rate_name(\"USDUSD\")',\n",
    "                        f'self.set_usd_rate_name(\"{rate_name}\")',\n",
    "                    ),\n",
    "                    end=\"\",\n",
    "                )\n",
    "\n",
    "        print(f\"Code replaced successfully in {destination_file}.\")\n",
    "    except IOError as e:\n",
    "        print(f\"Unable to create a copy of {source_file}: {e}\")"
   ]
  },
  {
   "cell_type": "code",
   "execution_count": 11,
   "metadata": {},
   "outputs": [],
   "source": [
    "symbols_rate = {\n",
    "    \"AUDUSD\": \"USDUSD\",\n",
    "    \"AUDNZD\": \"NZDUSD\",\n",
    "    \"AUDCAD\": \"USDCAD\",\n",
    "    \"AUDCHF\": \"USDCHF\",\n",
    "    \"NZDUSD\": \"USDUSD\",\n",
    "    \"NZDCAD\": \"USDCAD\",\n",
    "    \"EURUSD\": \"USDUSD\",\n",
    "    \"EURAUD\": \"AUDUSD\",\n",
    "    \"EURCAD\": \"USDCAD\",\n",
    "    \"EURCHF\": \"USDCHF\",\n",
    "    \"GBPNZD\": \"NZDUSD\",\n",
    "    \"GBPAUD\": \"AUDUSD\",\n",
    "    \"GBPCAD\": \"USDCAD\",\n",
    "    \"USDCAD\": \"USDCAD\",\n",
    "}"
   ]
  },
  {
   "cell_type": "code",
   "execution_count": 12,
   "metadata": {},
   "outputs": [
    {
     "name": "stdout",
     "output_type": "stream",
     "text": [
      "Unable to create a copy of audusd.py: 'audusd.py' and 'audusd.py' are the same file\n",
      "Copy of audusd.py created successfully as audnzd.py.\n",
      "Code replaced successfully in audnzd.py.\n",
      "Copy of audusd.py created successfully as audcad.py.\n",
      "Code replaced successfully in audcad.py.\n",
      "Copy of audusd.py created successfully as audchf.py.\n",
      "Code replaced successfully in audchf.py.\n",
      "Copy of audusd.py created successfully as nzdusd.py.\n",
      "Code replaced successfully in nzdusd.py.\n",
      "Copy of audusd.py created successfully as nzdcad.py.\n",
      "Code replaced successfully in nzdcad.py.\n",
      "Copy of audusd.py created successfully as eurusd.py.\n",
      "Code replaced successfully in eurusd.py.\n",
      "Copy of audusd.py created successfully as euraud.py.\n",
      "Code replaced successfully in euraud.py.\n",
      "Copy of audusd.py created successfully as eurcad.py.\n",
      "Code replaced successfully in eurcad.py.\n",
      "Copy of audusd.py created successfully as eurchf.py.\n",
      "Code replaced successfully in eurchf.py.\n",
      "Copy of audusd.py created successfully as gbpnzd.py.\n",
      "Code replaced successfully in gbpnzd.py.\n",
      "Copy of audusd.py created successfully as gbpaud.py.\n",
      "Code replaced successfully in gbpaud.py.\n",
      "Copy of audusd.py created successfully as gbpcad.py.\n",
      "Code replaced successfully in gbpcad.py.\n",
      "Copy of audusd.py created successfully as usdcad.py.\n",
      "Code replaced successfully in usdcad.py.\n"
     ]
    }
   ],
   "source": [
    "source_file = \"audusd.py\"\n",
    "\n",
    "for symbol, rate_name in symbols_rate.items():\n",
    "    destination_file = f\"{symbol.lower()}.py\"\n",
    "    create_file_copy(source_file, destination_file, symbol, rate_name)"
   ]
  }
 ],
 "metadata": {
  "kernelspec": {
   "display_name": "base",
   "language": "python",
   "name": "python3"
  },
  "language_info": {
   "codemirror_mode": {
    "name": "ipython",
    "version": 3
   },
   "file_extension": ".py",
   "mimetype": "text/x-python",
   "name": "python",
   "nbconvert_exporter": "python",
   "pygments_lexer": "ipython3",
   "version": "3.10.9"
  }
 },
 "nbformat": 4,
 "nbformat_minor": 2
}
