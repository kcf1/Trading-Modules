{
 "cells": [
  {
   "cell_type": "code",
   "execution_count": 1,
   "metadata": {},
   "outputs": [],
   "source": [
    "import pandas as pd\n",
    "import numpy as np\n",
    "import matplotlib.pyplot as plt"
   ]
  },
  {
   "cell_type": "code",
   "execution_count": 2,
   "metadata": {},
   "outputs": [],
   "source": [
    "import json\n",
    "\n",
    "from modules.interfaces import User, DataBase\n",
    "from modules.managers import PretradeDataManager, OrderManager, PortfolioManager\n",
    "from modules.portfolio import *\n",
    "from modules.tools import *"
   ]
  },
  {
   "cell_type": "code",
   "execution_count": 3,
   "metadata": {},
   "outputs": [],
   "source": [
    "ac_info = read_json(\"config/mt5_account.json\")[\"ftmo-demo\"]\n",
    "pre_db_info = read_json(\"config/postgres_info.json\")[\"pre-trade\"]\n",
    "post_db_info = read_json(\"config/postgres_info.json\")[\"post-trade\"]\n",
    "params = read_json(\"config/parameters.json\")\n",
    "asset_allocation = read_json(\"config/asset_allocation.json\")"
   ]
  },
  {
   "cell_type": "code",
   "execution_count": 4,
   "metadata": {},
   "outputs": [
    {
     "name": "stdout",
     "output_type": "stream",
     "text": [
      "Logged in as 1520198341 (FTMO-Demo2)\n",
      "Connected to pre-trade (localhost:5432)\n",
      "Connected to post-trade (localhost:5432)\n"
     ]
    }
   ],
   "source": [
    "user = User().login_by_dict(ac_info)\n",
    "pre_db = DataBase().connect_by_dict(pre_db_info)\n",
    "post_db = DataBase().connect_by_dict(post_db_info)"
   ]
  },
  {
   "cell_type": "code",
   "execution_count": 5,
   "metadata": {},
   "outputs": [],
   "source": [
    "pdm = PretradeDataManager(user, pre_db)\n",
    "om = OrderManager(user, post_db)\n",
    "pm = PortfolioManager(om, pdm, asset_allocation, params)"
   ]
  },
  {
   "cell_type": "code",
   "execution_count": 6,
   "metadata": {},
   "outputs": [],
   "source": [
    "universe = pdm.get_universe()"
   ]
  },
  {
   "cell_type": "code",
   "execution_count": 7,
   "metadata": {},
   "outputs": [
    {
     "name": "stdout",
     "output_type": "stream",
     "text": [
      "['EURUSD']\n"
     ]
    },
    {
     "name": "stderr",
     "output_type": "stream",
     "text": [
      "C:\\Users\\benka\\AppData\\Local\\Temp\\ipykernel_1632\\3885078182.py:6: FutureWarning: The default dtype for empty Series will be 'object' instead of 'float64' in a future version. Specify a dtype explicitly to silence this warning.\n",
      "  results = pd.Series()\n"
     ]
    },
    {
     "name": "stdout",
     "output_type": "stream",
     "text": [
      "=========================================================\n",
      "EURUSD\n"
     ]
    }
   ],
   "source": [
    "symbols = [\"EURUSD\"]\n",
    "\n",
    "print(symbols)\n",
    "\n",
    "\n",
    "results = pd.Series()\n",
    "\n",
    "fixed_cost = 0  # .00001\n",
    "commission = 0.00003\n",
    "slippage = 0  # .00001\n",
    "\n",
    "\n",
    "all_bars = {\n",
    "    symbol: pdm.get_bars(symbol).drop(columns=[\"id\", \"symbol\"]) for symbol in symbols\n",
    "}\n",
    "\n",
    "pnl_df = pd.DataFrame()\n",
    "pnl_net_df = pd.DataFrame()\n",
    "\n",
    "train_size = 10000\n",
    "step_size = 6000\n",
    "\n",
    "symbol = symbols[0]\n",
    "print(\"=========================================================\")\n",
    "print(symbol)\n",
    "\n",
    "bars = all_bars[symbol]\n",
    "point = universe.loc[universe.symbol == symbol, \"point\"].values[0]\n",
    "spread = bars.spread * point\n",
    "\n",
    "# params_FilteredBollingerBand = params[symbol][\"filtered_bollinger_band\"][\"params\"]\n",
    "params_FilteredBollingerBand = [\n",
    "    {\n",
    "        \"ema_lookback\": n,\n",
    "        \"vol_lookback\": 48,\n",
    "        \"avg_vol_lookback\": 6000,\n",
    "        \"width\": 1,\n",
    "        \"ema_filter_lookback\": n * 8,\n",
    "    }\n",
    "    for n in range(30, 91, 3)\n",
    "]"
   ]
  },
  {
   "cell_type": "code",
   "execution_count": 8,
   "metadata": {},
   "outputs": [],
   "source": [
    "from modules.trading_models_test.rule_based_models import FilteredBollingerBand\n",
    "\n",
    "weighted_bet_df = pd.DataFrame()\n",
    "for params in params_FilteredBollingerBand:\n",
    "    model = FilteredBollingerBand(1, params=params, bars=bars)\n",
    "    weighted_bet_df[f'{params[\"ema_lookback\"]}_{params[\"width\"]}'] = model.walkforward(\n",
    "        train_size=train_size,\n",
    "        step_size=step_size,\n",
    "        max_lookback=max(params.values()),\n",
    "    ).weighted_bet"
   ]
  },
  {
   "cell_type": "code",
   "execution_count": 9,
   "metadata": {},
   "outputs": [],
   "source": [
    "fixed_cost = 0  # .00001\n",
    "commission = 0.00003\n",
    "slippage = 0  # .00001"
   ]
  },
  {
   "cell_type": "code",
   "execution_count": 10,
   "metadata": {},
   "outputs": [],
   "source": [
    "pos = weighted_bet_df.fillna(0).mean(axis=1)"
   ]
  },
  {
   "cell_type": "code",
   "execution_count": 11,
   "metadata": {},
   "outputs": [],
   "source": [
    "from modules.trading_models_test.indicators import TechnicalIndicator\n",
    "\n",
    "signal = pd.Series(1.0, index=pos.index)\n",
    "cost = (spread + commission) * pos.abs()\n",
    "price = bars.close\n",
    "vol = price * TechnicalIndicator(close=bars.close).get_combvol(48, 6000)\n",
    "tp = 2 * vol\n",
    "sl = 3 * vol\n",
    "period = 12"
   ]
  },
  {
   "cell_type": "code",
   "execution_count": 12,
   "metadata": {},
   "outputs": [
    {
     "data": {
      "text/plain": [
       "1.0    30863\n",
       "0.0    27380\n",
       "Name: label, dtype: int64"
      ]
     },
     "execution_count": 12,
     "metadata": {},
     "output_type": "execute_result"
    }
   ],
   "source": [
    "label = label_tribar(signal,price,tp,sl,period)\n",
    "pnl = backtest(signal,price,tp,sl,period)\n",
    "label.loc[label==-1.0] = 0.0\n",
    "label.name = 'label'\n",
    "label.value_counts()"
   ]
  },
  {
   "cell_type": "code",
   "execution_count": 34,
   "metadata": {},
   "outputs": [],
   "source": [
    "from ta import add_all_ta_features\n",
    "\n",
    "feat_ = add_all_ta_features(\n",
    "    bars.drop(columns=\"real_volume\"),\n",
    "    open=\"open\",\n",
    "    high=\"high\",\n",
    "    low=\"low\",\n",
    "    close=\"close\",\n",
    "    volume=\"tick_volume\",\n",
    "    fillna=True,\n",
    ")"
   ]
  },
  {
   "cell_type": "code",
   "execution_count": 47,
   "metadata": {},
   "outputs": [],
   "source": [
    "feat = feat_\n",
    "feat = feat_.diff(12) / feat_.diff(12).rolling(480).std()\n",
    "#feat = (feat_ - feat_.rolling(12).mean()) / feat_.rolling(480).std()\n",
    "#feat = feat.clip(lower=feat.quantile(0.05),upper=feat.quantile(0.95),axis=1)\n",
    "\n",
    "feat = feat.dropna()"
   ]
  },
  {
   "cell_type": "code",
   "execution_count": 48,
   "metadata": {},
   "outputs": [],
   "source": [
    "from sklearn.decomposition import PCA\n",
    "\n",
    "n_components=30\n",
    "model = PCA(n_components=n_components)\n",
    "feat = pd.DataFrame(model.fit_transform(feat),index=feat.index,columns=[f'PC{n}' for n in range(n_components)])\n",
    "\n",
    "hist_pnl = signal.shift(1) * np.log(price).diff()\n",
    "feat[\"rolling_sr\"] = hist_pnl.rolling(480).mean() / hist_pnl.rolling(480).std()\n",
    "\n",
    "feat.dropna(inplace=True)"
   ]
  },
  {
   "cell_type": "code",
   "execution_count": 49,
   "metadata": {},
   "outputs": [
    {
     "name": "stdout",
     "output_type": "stream",
     "text": [
      "27735\n",
      "27736\n"
     ]
    }
   ],
   "source": [
    "meta_df = pd.concat([label, feat], axis=1).dropna()\n",
    "\n",
    "train_set, test_set = (\n",
    "    meta_df.iloc[: len(meta_df) // 2],\n",
    "    meta_df.iloc[len(meta_df) // 2:],\n",
    ")\n",
    "\n",
    "from sklearn.preprocessing import StandardScaler\n",
    "\n",
    "scalar = StandardScaler()\n",
    "\n",
    "train_y, train_x = train_set.label, train_set.drop(columns=\"label\")\n",
    "\n",
    "test_y, test_x = test_set.label, test_set.drop(columns=\"label\")\n",
    "\n",
    "print(len(train_set))\n",
    "print(len(test_set))"
   ]
  },
  {
   "cell_type": "code",
   "execution_count": 50,
   "metadata": {},
   "outputs": [
    {
     "name": "stdout",
     "output_type": "stream",
     "text": [
      "0.5427798810167658\n",
      "0.5327732910297087\n"
     ]
    }
   ],
   "source": [
    "from sklearn.ensemble import GradientBoostingClassifier\n",
    "from sklearn.linear_model import LogisticRegressionCV\n",
    "from sklearn.ensemble import RandomForestClassifier\n",
    "\n",
    "\n",
    "#model = GradientBoostingClassifier(n_estimators=100, max_depth=3, random_state=300300)\n",
    "model = RandomForestClassifier(n_estimators=500, max_depth=3, random_state=300300)\n",
    "#model = LogisticRegressionCV(fit_intercept=False, cv=5, penalty=\"l2\",max_iter=500)\n",
    "\n",
    "model.fit(y=train_y, X=train_x)\n",
    "\n",
    "print(model.score(y=train_y, X=train_x))\n",
    "\n",
    "print(model.score(y=test_y, X=test_x))"
   ]
  },
  {
   "cell_type": "code",
   "execution_count": 51,
   "metadata": {},
   "outputs": [
    {
     "data": {
      "image/png": "[encoded data removed]",
      "text/plain": [
       "<Figure size 640x480 with 1 Axes>"
      ]
     },
     "metadata": {},
     "output_type": "display_data"
    }
   ],
   "source": [
    "feature_names = train_x.columns\n",
    "importances = model.feature_importances_\n",
    "\n",
    "std =  pd.Series(np.std([tree.feature_importances_ for tree in model.estimators_], axis=0), index=feature_names)\n",
    "forest_importances = pd.Series(importances, index=feature_names).sort_values(ascending=False)\n",
    "\n",
    "top_feat = forest_importances.head(10).index\n",
    "\n",
    "fig, ax = plt.subplots()\n",
    "forest_importances[top_feat].plot.bar(yerr=std[top_feat], ax=ax)\n",
    "ax.set_title(\"Feature importances using MDI\")\n",
    "ax.set_ylabel(\"Mean decrease in impurity\")\n",
    "fig.tight_layout()"
   ]
  },
  {
   "cell_type": "code",
   "execution_count": 52,
   "metadata": {},
   "outputs": [],
   "source": [
    "prob = model.predict_proba(X=test_x).max(axis=1)\n",
    "pred = model.predict(X=test_x)\n",
    "\n",
    "from scipy.stats import norm\n",
    "\n",
    "size = pd.Series(pred * norm.cdf(prob), index=test_x.index)\n",
    "# size = pd.Series(pred, index=test_x.index).clip(lower=0)"
   ]
  },
  {
   "cell_type": "code",
   "execution_count": 56,
   "metadata": {},
   "outputs": [],
   "source": [
    "meta_pnl = backtest(signal * size, price, tp, sl, period)"
   ]
  },
  {
   "cell_type": "code",
   "execution_count": 57,
   "metadata": {},
   "outputs": [
    {
     "data": {
      "text/plain": [
       "<Axes: >"
      ]
     },
     "execution_count": 57,
     "metadata": {},
     "output_type": "execute_result"
    },
    {
     "data": {
      "image/png": "[encoded data removed]",
      "text/plain": [
       "<Figure size 640x480 with 1 Axes>"
      ]
     },
     "metadata": {},
     "output_type": "display_data"
    }
   ],
   "source": [
    "meta_pnl.loc[test_set.index].fillna(0).rolling(12).mean().cumsum().plot()\n",
    "pnl.loc[test_set.index].fillna(0).rolling(12).mean().cumsum().plot()"
   ]
  },
  {
   "cell_type": "code",
   "execution_count": 22,
   "metadata": {},
   "outputs": [
    {
     "ename": "NameError",
     "evalue": "name 'top_feat' is not defined",
     "output_type": "error",
     "traceback": [
      "\u001b[1;31m---------------------------------------------------------------------------\u001b[0m",
      "\u001b[1;31mNameError\u001b[0m                                 Traceback (most recent call last)",
      "Cell \u001b[1;32mIn[22], line 16\u001b[0m\n\u001b[0;32m     13\u001b[0m \u001b[38;5;66;03m#top_feat = forest_importances.index\u001b[39;00m\n\u001b[0;32m     15\u001b[0m fig, ax \u001b[38;5;241m=\u001b[39m plt\u001b[38;5;241m.\u001b[39msubplots()\n\u001b[1;32m---> 16\u001b[0m forest_importances[\u001b[43mtop_feat\u001b[49m]\u001b[38;5;241m.\u001b[39mplot\u001b[38;5;241m.\u001b[39mbar(yerr\u001b[38;5;241m=\u001b[39mstd[top_feat], ax\u001b[38;5;241m=\u001b[39max)\n\u001b[0;32m     17\u001b[0m ax\u001b[38;5;241m.\u001b[39mset_title(\u001b[38;5;124m\"\u001b[39m\u001b[38;5;124mFeature importances using MDI\u001b[39m\u001b[38;5;124m\"\u001b[39m)\n\u001b[0;32m     18\u001b[0m ax\u001b[38;5;241m.\u001b[39mset_ylabel(\u001b[38;5;124m\"\u001b[39m\u001b[38;5;124mMean decrease in impurity\u001b[39m\u001b[38;5;124m\"\u001b[39m)\n",
      "\u001b[1;31mNameError\u001b[0m: name 'top_feat' is not defined"
     ]
    },
    {
     "data": {
      "image/png": "[encoded data removed]",
      "text/plain": [
       "<Figure size 640x480 with 1 Axes>"
      ]
     },
     "metadata": {},
     "output_type": "display_data"
    }
   ],
   "source": [
    "from sklearn.inspection import permutation_importance\n",
    "\n",
    "feature_names = train_x.columns\n",
    "result = permutation_importance(\n",
    "    model, test_x, test_y, n_repeats=10, random_state=42, n_jobs=2\n",
    ")\n",
    "\n",
    "std = pd.Series(result.importances_std, index=feature_names)\n",
    "forest_importances = pd.Series(\n",
    "    result.importances_mean, index=feature_names\n",
    ").sort_values(ascending=False)\n",
    "\n",
    "#top_feat = forest_importances.index\n",
    "\n",
    "fig, ax = plt.subplots()\n",
    "forest_importances[top_feat].plot.bar(yerr=std[top_feat], ax=ax)\n",
    "ax.set_title(\"Feature importances using MDI\")\n",
    "ax.set_ylabel(\"Mean decrease in impurity\")\n",
    "fig.tight_layout()"
   ]
  },
  {
   "cell_type": "code",
   "execution_count": null,
   "metadata": {},
   "outputs": [],
   "source": []
  }
 ],
 "metadata": {
  "kernelspec": {
   "display_name": "base",
   "language": "python",
   "name": "python3"
  },
  "language_info": {
   "codemirror_mode": {
    "name": "ipython",
    "version": 3
   },
   "file_extension": ".py",
   "mimetype": "text/x-python",
   "name": "python",
   "nbconvert_exporter": "python",
   "pygments_lexer": "ipython3",
   "version": "3.10.9"
  }
 },
 "nbformat": 4,
 "nbformat_minor": 2
}
